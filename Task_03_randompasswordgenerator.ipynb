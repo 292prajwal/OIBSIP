{
 "cells": [
  {
   "cell_type": "code",
   "execution_count": 1,
   "id": "828c2885",
   "metadata": {},
   "outputs": [
    {
     "name": "stdout",
     "output_type": "stream",
     "text": [
      "Enter length : 10\n",
      "\n",
      "Your Random Password is :  vhC\\;qN~y<\n"
     ]
    }
   ],
   "source": [
    "import random\n",
    "import string\n",
    "\n",
    "length = int(input('Enter length : '))\n",
    "\n",
    "char = string.ascii_letters\n",
    "char += string.digits\n",
    "char += string.punctuation\n",
    "\n",
    "password = \"\"\n",
    "\n",
    "# password = ''.join( [random.choice(char) for i in range(length)] )\n",
    "\n",
    "for i in range(length):\n",
    "    password += random.choice(char)\n",
    "    \n",
    "print('\\nYour Random Password is : ',password)"
   ]
  },
  {
   "cell_type": "code",
   "execution_count": 2,
   "id": "deb3fd40",
   "metadata": {},
   "outputs": [],
   "source": [
    "# print(string.ascii_letters)\n",
    "# print(string.digits)\n",
    "# print(string.punctuation)"
   ]
  },
  {
   "cell_type": "code",
   "execution_count": null,
   "id": "d65008d4",
   "metadata": {},
   "outputs": [],
   "source": []
  }
 ],
 "metadata": {
  "kernelspec": {
   "display_name": "Python 3 (ipykernel)",
   "language": "python",
   "name": "python3"
  },
  "language_info": {
   "codemirror_mode": {
    "name": "ipython",
    "version": 3
   },
   "file_extension": ".py",
   "mimetype": "text/x-python",
   "name": "python",
   "nbconvert_exporter": "python",
   "pygments_lexer": "ipython3",
   "version": "3.9.12"
  }
 },
 "nbformat": 4,
 "nbformat_minor": 5
}
