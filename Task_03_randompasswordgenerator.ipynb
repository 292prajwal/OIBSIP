{
 "cells": [
  {
   "cell_type": "code",
   "execution_count": 1,
   "id": "03a3fecd",
   "metadata": {},
   "outputs": [],
   "source": [
    "import random\n",
    "import string\n",
    "\n",
    "length = int(input('Enter length : '))\n",
    "\n",
    "char = string.ascii_letters\n",
    "char += string.digits\n",
    "char += string.punctuation\n",
    "\n",
    "password = \"\"\n",
    "\n",
    "# password = ''.join( [random.choice(char) for i in range(length)] )\n",
    "\n",
    "for i in range(length):\n",
    "    password += random.choice(char)\n",
    "    \n",
    "print('\\nYour Random Password is : ',password)"
   ]
  },
  {
   "cell_type": "code",
   "execution_count": 2,
   "id": "afdbd1a6",
   "metadata": {},
   "outputs": [
    {
     "name": "stdout",
     "output_type": "stream",
     "text": [
      "Enter length : 8\n"
     ]
    }
   ],
   "source": [
    "length = int(input('Enter length : '))"
   ]
  },
  {
   "cell_type": "code",
   "execution_count": 3,
   "id": "474068e7",
   "metadata": {},
   "outputs": [
    {
     "name": "stdout",
     "output_type": "stream",
     "text": [
      "abcdefghijklmnopqrstuvwxyzABCDEFGHIJKLMNOPQRSTUVWXYZ\n",
      "0123456789\n",
      "!\"#$%&'()*+,-./:;<=>?@[\\]^_`{|}~\n"
     ]
    }
   ],
   "source": [
    "print(string.ascii_letters)\n",
    "print(string.digits)\n",
    "print(string.punctuation)"
   ]
  },
  {
   "cell_type": "code",
   "execution_count": 4,
   "id": "e24462e0",
   "metadata": {},
   "outputs": [],
   "source": [
    "char = string.ascii_letters"
   ]
  },
  {
   "cell_type": "code",
   "execution_count": 5,
   "id": "85387df5",
   "metadata": {},
   "outputs": [],
   "source": [
    "char += string.digits"
   ]
  },
  {
   "cell_type": "code",
   "execution_count": 6,
   "id": "53f62070",
   "metadata": {},
   "outputs": [],
   "source": [
    "char += string.punctuation"
   ]
  },
  {
   "cell_type": "code",
   "execution_count": 10,
   "id": "4aa766f7",
   "metadata": {},
   "outputs": [
    {
     "name": "stdout",
     "output_type": "stream",
     "text": [
      "\n",
      "Your Random Password is :  %DOK*][7\n"
     ]
    }
   ],
   "source": [
    "password = \"\"\n",
    "\n",
    "# password = ''.join( [random.choice(char) for i in range(length)] )\n",
    "\n",
    "for i in range(length):\n",
    "    password += random.choice(char)\n",
    "    \n",
    "print('\\nYour Random Password is : ',password)"
   ]
  },
  {
   "cell_type": "code",
   "execution_count": null,
   "id": "93996797",
   "metadata": {},
   "outputs": [],
   "source": []
  }
 ],
 "metadata": {
  "kernelspec": {
   "display_name": "Python 3 (ipykernel)",
   "language": "python",
   "name": "python3"
  },
  "language_info": {
   "codemirror_mode": {
    "name": "ipython",
    "version": 3
   },
   "file_extension": ".py",
   "mimetype": "text/x-python",
   "name": "python",
   "nbconvert_exporter": "python",
   "pygments_lexer": "ipython3",
   "version": "3.9.12"
  }
 },
 "nbformat": 4,
 "nbformat_minor": 5
}
